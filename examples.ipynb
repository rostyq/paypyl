{
 "cells": [
  {
   "cell_type": "code",
   "execution_count": null,
   "metadata": {},
   "outputs": [],
   "source": [
    "%load_ext autoreload\n",
    "%autoreload 2\n",
    "\n",
    "%load_ext dotenv\n",
    "%dotenv"
   ]
  },
  {
   "cell_type": "code",
   "execution_count": null,
   "metadata": {},
   "outputs": [],
   "source": [
    "from pprint import pprint\n",
    "\n",
    "from requests import HTTPError\n",
    "\n",
    "from paypyl import Client, Update\n",
    "from paypyl.resources import *\n",
    "\n",
    "client = Client()\n",
    "client.url"
   ]
  },
  {
   "cell_type": "code",
   "execution_count": null,
   "metadata": {},
   "outputs": [],
   "source": [
    "products = [*client.iter_products()]\n",
    "products"
   ]
  },
  {
   "cell_type": "code",
   "execution_count": null,
   "metadata": {},
   "outputs": [],
   "source": [
    "# client.update_product(products[-1].id, [Update.replace(\"/name\", \"Test Product 8\")])\n",
    "# product = client.product_details(products[-1].id)\n",
    "# product"
   ]
  },
  {
   "cell_type": "code",
   "execution_count": null,
   "metadata": {},
   "outputs": [],
   "source": [
    "# product = client.create_product(Product(name=f\"Test Product {len(products) + 1}\"), prefer=\"representation\")\n",
    "# product"
   ]
  },
  {
   "cell_type": "code",
   "execution_count": null,
   "metadata": {},
   "outputs": [],
   "source": [
    "plans = [*client.iter_plans()]\n",
    "plans"
   ]
  },
  {
   "cell_type": "code",
   "execution_count": null,
   "metadata": {},
   "outputs": [],
   "source": [
    "# client.update_plan(plans[1].id, [Update.replace(\"/name\", \"Test Plan 1\")])"
   ]
  },
  {
   "cell_type": "code",
   "execution_count": null,
   "metadata": {},
   "outputs": [],
   "source": [
    "product = products[0]\n",
    "plan = Plan(\n",
    "    name=f\"Test Plan {len(plans) + 1}\",\n",
    "    product_id=product.id,\n",
    "    billing_cycles=[\n",
    "        BillingCycle(\n",
    "            tenure_type=\"REGULAR\",\n",
    "            sequence=1,\n",
    "            frequency=dict(Frequency.month()),\n",
    "            pricing_scheme=dict(\n",
    "                PricingScheme(fixed_price=dict(Money(value=\"1\", currency_code=\"USD\")))\n",
    "            ),\n",
    "        )\n",
    "    ],\n",
    ")\n",
    "\n",
    "client.create_plan(plan)"
   ]
  },
  {
   "cell_type": "code",
   "execution_count": null,
   "metadata": {},
   "outputs": [],
   "source": [
    "pprint(client.plan_details(plans[0].id).model_dump())"
   ]
  },
  {
   "cell_type": "code",
   "execution_count": null,
   "metadata": {},
   "outputs": [],
   "source": [
    "# client.activate_plan(plans[0].id)\n",
    "# client.plan_details(plans[0].id)"
   ]
  },
  {
   "cell_type": "code",
   "execution_count": null,
   "metadata": {},
   "outputs": [],
   "source": [
    "sub = Subscription(plan_id=plans[0].id)\n",
    "sub = client.create_subscription(sub)"
   ]
  },
  {
   "cell_type": "code",
   "execution_count": null,
   "metadata": {},
   "outputs": [],
   "source": [
    "sub = client.subscription_details(sub.id, fields=[\"plan\", \"last_failed_payment\"])\n",
    "pprint(sub.model_dump())"
   ]
  },
  {
   "cell_type": "code",
   "execution_count": null,
   "metadata": {},
   "outputs": [],
   "source": [
    "client.cancel_subscription(sub.id)"
   ]
  },
  {
   "cell_type": "code",
   "execution_count": null,
   "metadata": {},
   "outputs": [],
   "source": [
    "client.list_webhooks()"
   ]
  },
  {
   "cell_type": "code",
   "execution_count": null,
   "metadata": {},
   "outputs": [],
   "source": [
    "client.create_webhook(Webhook(url=\"\"))"
   ]
  }
 ],
 "metadata": {
  "kernelspec": {
   "display_name": "venv",
   "language": "python",
   "name": "python3"
  },
  "language_info": {
   "codemirror_mode": {
    "name": "ipython",
    "version": 3
   },
   "file_extension": ".py",
   "mimetype": "text/x-python",
   "name": "python",
   "nbconvert_exporter": "python",
   "pygments_lexer": "ipython3",
   "version": "3.12.0"
  }
 },
 "nbformat": 4,
 "nbformat_minor": 2
}
